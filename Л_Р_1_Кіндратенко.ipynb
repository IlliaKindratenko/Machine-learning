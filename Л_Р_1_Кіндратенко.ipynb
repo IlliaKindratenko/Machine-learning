{
  "nbformat": 4,
  "nbformat_minor": 0,
  "metadata": {
    "colab": {
      "provenance": [],
      "authorship_tag": "ABX9TyPLwiAu/pONIZT7Z371iheb",
      "include_colab_link": true
    },
    "kernelspec": {
      "name": "python3",
      "display_name": "Python 3"
    },
    "language_info": {
      "name": "python"
    }
  },
  "cells": [
    {
      "cell_type": "markdown",
      "metadata": {
        "id": "view-in-github",
        "colab_type": "text"
      },
      "source": [
        "<a href=\"https://colab.research.google.com/github/IlliaKindratenko/Machine-learning/blob/main/%D0%9B_%D0%A0_1_%D0%9A%D1%96%D0%BD%D0%B4%D1%80%D0%B0%D1%82%D0%B5%D0%BD%D0%BA%D0%BE.ipynb\" target=\"_parent\"><img src=\"https://colab.research.google.com/assets/colab-badge.svg\" alt=\"Open In Colab\"/></a>"
      ]
    },
    {
      "cell_type": "markdown",
      "source": [
        "11 Варіант"
      ],
      "metadata": {
        "id": "iKKgJA4VgYCL"
      }
    },
    {
      "cell_type": "code",
      "execution_count": null,
      "metadata": {
        "colab": {
          "base_uri": "https://localhost:8080/"
        },
        "id": "OYBZXsjme6fn",
        "outputId": "5b1bf512-d86d-4f3d-dc86-86541bd852f8"
      },
      "outputs": [
        {
          "output_type": "stream",
          "name": "stdout",
          "text": [
            "Requirement already satisfied: pandas in /usr/local/lib/python3.10/dist-packages (2.1.4)\n",
            "Requirement already satisfied: numpy<2,>=1.22.4 in /usr/local/lib/python3.10/dist-packages (from pandas) (1.26.4)\n",
            "Requirement already satisfied: python-dateutil>=2.8.2 in /usr/local/lib/python3.10/dist-packages (from pandas) (2.8.2)\n",
            "Requirement already satisfied: pytz>=2020.1 in /usr/local/lib/python3.10/dist-packages (from pandas) (2024.1)\n",
            "Requirement already satisfied: tzdata>=2022.1 in /usr/local/lib/python3.10/dist-packages (from pandas) (2024.1)\n",
            "Requirement already satisfied: six>=1.5 in /usr/local/lib/python3.10/dist-packages (from python-dateutil>=2.8.2->pandas) (1.16.0)\n"
          ]
        }
      ],
      "source": [
        "!pip install pandas"
      ]
    },
    {
      "cell_type": "code",
      "source": [
        "!pip install numpy"
      ],
      "metadata": {
        "id": "taEmvsLWo7Kg",
        "outputId": "d32d988b-c80f-4c97-f947-7ed650ab9f62",
        "colab": {
          "base_uri": "https://localhost:8080/"
        }
      },
      "execution_count": null,
      "outputs": [
        {
          "output_type": "stream",
          "name": "stdout",
          "text": [
            "Requirement already satisfied: numpy in /usr/local/lib/python3.10/dist-packages (1.26.4)\n"
          ]
        }
      ]
    },
    {
      "cell_type": "code",
      "source": [
        "import pandas as pd\n",
        "\n",
        "start = 3\n",
        "step = 5\n",
        "size = 10\n",
        "\n",
        "# Використання функції pd.Series для створення одновимірного масиву\n",
        "sequence = pd.Series([start + step * i for i in range(size)])\n",
        "\n",
        "print(sequence)\n"
      ],
      "metadata": {
        "colab": {
          "base_uri": "https://localhost:8080/"
        },
        "id": "JleyUyDEhugM",
        "outputId": "2e7cbb87-d70c-4852-cba3-214d08213520"
      },
      "execution_count": null,
      "outputs": [
        {
          "output_type": "stream",
          "name": "stdout",
          "text": [
            "0     3\n",
            "1     8\n",
            "2    13\n",
            "3    18\n",
            "4    23\n",
            "5    28\n",
            "6    33\n",
            "7    38\n",
            "8    43\n",
            "9    48\n",
            "dtype: int64\n"
          ]
        }
      ]
    },
    {
      "cell_type": "code",
      "source": [
        "import numpy as np\n",
        "\n",
        "# Початкове число\n",
        "start = 1\n",
        "\n",
        "# Створення порожньої матриці 3x3\n",
        "matrix = np.zeros((3, 3), dtype=int)\n",
        "\n",
        "# Заповнення матриці добутками кожного числа та його попереднього\n",
        "current_value = start\n",
        "for i in range(3):\n",
        "    for j in range(3):\n",
        "        if current_value == 1:\n",
        "            matrix[i, j] = 1\n",
        "        else:\n",
        "            matrix[i, j] = current_value * (current_value - 1)\n",
        "        current_value += 1\n",
        "\n",
        "print(matrix)\n"
      ],
      "metadata": {
        "colab": {
          "base_uri": "https://localhost:8080/"
        },
        "id": "Q4cKV1ALiGZr",
        "outputId": "e3b76518-858e-48fa-a159-92cf75b84206"
      },
      "execution_count": null,
      "outputs": [
        {
          "output_type": "stream",
          "name": "stdout",
          "text": [
            "[[ 1  2  6]\n",
            " [12 20 30]\n",
            " [42 56 72]]\n"
          ]
        }
      ]
    },
    {
      "cell_type": "code",
      "source": [
        "import numpy as np\n",
        "\n",
        "# Створення матриці 3x3 з випадковими натуральними числами від 1 до 2\n",
        "matrix = np.random.randint(1, 3, size=(3, 3))\n",
        "\n",
        "# Обчислення середнього арифметичного елементів матриці\n",
        "mean_value = np.mean(matrix)\n",
        "\n",
        "print(\"Матриця:\")\n",
        "print(matrix)\n",
        "print(\"\\nСереднє арифметичне елементів:\", mean_value)\n"
      ],
      "metadata": {
        "colab": {
          "base_uri": "https://localhost:8080/"
        },
        "id": "dQxzjm_Violb",
        "outputId": "3d6172aa-52c4-4c9c-a094-02480af233ad"
      },
      "execution_count": null,
      "outputs": [
        {
          "output_type": "stream",
          "name": "stdout",
          "text": [
            "Матриця:\n",
            "[[2 2 1]\n",
            " [2 1 2]\n",
            " [1 1 2]]\n",
            "\n",
            "Середнє арифметичне елементів: 1.5555555555555556\n"
          ]
        }
      ]
    },
    {
      "cell_type": "code",
      "source": [
        "import numpy as np\n",
        "\n",
        "# Створення матриці 4x4 з випадковими дійсними числами в діапазоні від 0 до 1\n",
        "matrix = np.random.rand(4, 4)\n",
        "\n",
        "# Знаходження кількості елементів, що більше 0.5\n",
        "count_greater_than_0_5 = np.sum(matrix > 0.5)\n",
        "\n",
        "print(\"Матриця:\")\n",
        "print(matrix)\n",
        "print(\"\\nКількість елементів більше 0.5:\", count_greater_than_0_5)\n"
      ],
      "metadata": {
        "colab": {
          "base_uri": "https://localhost:8080/"
        },
        "id": "CMHIQCyti-Tg",
        "outputId": "ef2c43a7-ae01-46b1-b2c2-8a9ace31b391"
      },
      "execution_count": null,
      "outputs": [
        {
          "output_type": "stream",
          "name": "stdout",
          "text": [
            "Матриця:\n",
            "[[0.15222797 0.88828083 0.80554233 0.48191789]\n",
            " [0.51281008 0.73648968 0.14236477 0.18371005]\n",
            " [0.07799427 0.76748696 0.24682642 0.75034424]\n",
            " [0.08391323 0.33807745 0.74421146 0.56074855]]\n",
            "\n",
            "Кількість елементів більше 0.5: 8\n"
          ]
        }
      ]
    },
    {
      "cell_type": "code",
      "source": [
        "import numpy as np\n",
        "\n",
        "# Створення двох масивів розміром 7 з випадковими цілими числами від -15 до 15\n",
        "array1 = np.random.randint(-15, 16, size=7)\n",
        "array2 = np.random.randint(-15, 16, size=7)\n",
        "\n",
        "# Поелементні операції\n",
        "addition = array1 + array2\n",
        "subtraction = array1 - array2\n",
        "multiplication = array1 * array2\n",
        "\n",
        "print(\"Масив 1:\")\n",
        "print(array1)\n",
        "\n",
        "print(\"\\nМасив 2:\")\n",
        "print(array2)\n",
        "\n",
        "print(\"\\nПоелементне додавання:\")\n",
        "print(addition)\n",
        "\n",
        "print(\"\\nПоелементне віднімання:\")\n",
        "print(subtraction)\n",
        "\n",
        "print(\"\\nПоелементне множення:\")\n",
        "print(multiplication)\n"
      ],
      "metadata": {
        "colab": {
          "base_uri": "https://localhost:8080/"
        },
        "id": "LOA8YpDyjY7O",
        "outputId": "c8b5ffdb-1c06-47ab-fc9e-9ce84e60227a"
      },
      "execution_count": null,
      "outputs": [
        {
          "output_type": "stream",
          "name": "stdout",
          "text": [
            "Масив 1:\n",
            "[  7 -12  -6   3  -4 -15   2]\n",
            "\n",
            "Масив 2:\n",
            "[  1   0   9 -15  10  11   7]\n",
            "\n",
            "Поелементне додавання:\n",
            "[  8 -12   3 -12   6  -4   9]\n",
            "\n",
            "Поелементне віднімання:\n",
            "[  6 -12 -15  18 -14 -26  -5]\n",
            "\n",
            "Поелементне множення:\n",
            "[   7    0  -54  -45  -40 -165   14]\n"
          ]
        }
      ]
    },
    {
      "cell_type": "code",
      "source": [
        "import numpy as np\n",
        "\n",
        "# Створення двох матриць 4x4 з довільними цілими числами від 1 до 10\n",
        "matrix1 = np.random.randint(1, 11, size=(4, 4))\n",
        "matrix2 = np.random.randint(1, 11, size=(4, 4))\n",
        "\n",
        "# Знаходження добутку двох матриць\n",
        "product_matrix = np.dot(matrix1, matrix2)\n",
        "\n",
        "print(\"Матриця 1:\")\n",
        "print(matrix1)\n",
        "\n",
        "print(\"\\nМатриця 2:\")\n",
        "print(matrix2)\n",
        "\n",
        "print(\"\\nДобуток матриць:\")\n",
        "print(product_matrix)\n"
      ],
      "metadata": {
        "colab": {
          "base_uri": "https://localhost:8080/"
        },
        "id": "E1CGz3yRj_Iv",
        "outputId": "b5671ff1-93d3-4f0b-c935-fe585c5a2246"
      },
      "execution_count": null,
      "outputs": [
        {
          "output_type": "stream",
          "name": "stdout",
          "text": [
            "Матриця 1:\n",
            "[[ 9  2  2  5]\n",
            " [ 7 10  9  1]\n",
            " [ 5  4  1  9]\n",
            " [ 6  5  2  9]]\n",
            "\n",
            "Матриця 2:\n",
            "[[ 8  8  2  5]\n",
            " [ 4  5  8  4]\n",
            " [ 1 10  8  5]\n",
            " [ 2  5  1  4]]\n",
            "\n",
            "Добуток матриць:\n",
            "[[ 92 127  55  83]\n",
            " [107 201 167 124]\n",
            " [ 75 115  59  82]\n",
            " [ 88 138  77  96]]\n"
          ]
        }
      ]
    },
    {
      "cell_type": "code",
      "source": [
        "import numpy as np\n",
        "\n",
        "# Створення матриці розміром 4x2 з випадковими цілими числами від 1 до 10\n",
        "matrix1 = np.random.randint(1, 11, size=(4, 2))\n",
        "\n",
        "# Створення матриці розміром 2x5 з випадковими цілими числами від 1 до 10\n",
        "matrix2 = np.random.randint(1, 11, size=(2, 5))\n",
        "\n",
        "# Перемноження двох матриць\n",
        "product_matrix = np.dot(matrix1, matrix2)\n",
        "\n",
        "print(\"Матриця 1 (4x2):\")\n",
        "print(matrix1)\n",
        "\n",
        "print(\"\\nМатриця 2 (2x5):\")\n",
        "print(matrix2)\n",
        "\n",
        "print(\"\\nДобуток матриць (4x5):\")\n",
        "print(product_matrix)\n"
      ],
      "metadata": {
        "colab": {
          "base_uri": "https://localhost:8080/"
        },
        "id": "B4zo7LGjkXFp",
        "outputId": "0f4d8f0a-37da-4098-9daa-675b0d82c06d"
      },
      "execution_count": null,
      "outputs": [
        {
          "output_type": "stream",
          "name": "stdout",
          "text": [
            "Матриця 1 (4x2):\n",
            "[[ 8  6]\n",
            " [ 2  5]\n",
            " [ 1 10]\n",
            " [ 6  2]]\n",
            "\n",
            "Матриця 2 (2x5):\n",
            "[[ 1  9  8  5  2]\n",
            " [ 8  8  6  7 10]]\n",
            "\n",
            "Добуток матриць (4x5):\n",
            "[[ 56 120 100  82  76]\n",
            " [ 42  58  46  45  54]\n",
            " [ 81  89  68  75 102]\n",
            " [ 22  70  60  44  32]]\n"
          ]
        }
      ]
    },
    {
      "cell_type": "code",
      "source": [
        "import numpy as np\n",
        "\n",
        "# Створення матриці розміром 2x2 з випадковими цілими числами від 1 до 12\n",
        "matrix = np.random.randint(1, 13, size=(2, 2))\n",
        "\n",
        "# Обчислення оберненої матриці\n",
        "inverse_matrix = np.linalg.inv(matrix)\n",
        "\n",
        "print(\"Матриця 2x2:\")\n",
        "print(matrix)\n",
        "\n",
        "print(\"\\nОбернена матриця:\")\n",
        "print(inverse_matrix)\n"
      ],
      "metadata": {
        "colab": {
          "base_uri": "https://localhost:8080/"
        },
        "id": "sOLXogS1k6Qg",
        "outputId": "e8370a3f-3620-406e-d624-829cd9bb99a5"
      },
      "execution_count": null,
      "outputs": [
        {
          "output_type": "stream",
          "name": "stdout",
          "text": [
            "Матриця 2x2:\n",
            "[[11  9]\n",
            " [ 3  7]]\n",
            "\n",
            "Обернена матриця:\n",
            "[[ 0.14 -0.18]\n",
            " [-0.06  0.22]]\n"
          ]
        }
      ]
    },
    {
      "cell_type": "code",
      "source": [
        "import numpy as np\n",
        "\n",
        "# Створення матриці 3x3 з випадковими дійсними числами в діапазоні від 0 до 1\n",
        "matrix = np.random.rand(3, 3)\n",
        "\n",
        "# Транспонування матриці\n",
        "transposed_matrix = matrix.T\n",
        "\n",
        "print(\"Матриця 3x3:\")\n",
        "print(matrix)\n",
        "\n",
        "print(\"\\nТранспонована матриця:\")\n",
        "print(transposed_matrix)\n"
      ],
      "metadata": {
        "colab": {
          "base_uri": "https://localhost:8080/"
        },
        "id": "XPJq6t9vllon",
        "outputId": "51ab4d56-c962-4230-a7d8-f1452c1996b1"
      },
      "execution_count": null,
      "outputs": [
        {
          "output_type": "stream",
          "name": "stdout",
          "text": [
            "Матриця 3x3:\n",
            "[[0.92997571 0.79894601 0.65978839]\n",
            " [0.46209662 0.31747202 0.34870381]\n",
            " [0.27740464 0.4466052  0.34299906]]\n",
            "\n",
            "Транспонована матриця:\n",
            "[[0.92997571 0.46209662 0.27740464]\n",
            " [0.79894601 0.31747202 0.4466052 ]\n",
            " [0.65978839 0.34870381 0.34299906]]\n"
          ]
        }
      ]
    },
    {
      "cell_type": "code",
      "source": [
        "import numpy as np\n",
        "\n",
        "# Створення матриці розміром 3x4 з випадковими дійсними числами від 0 до 1\n",
        "matrix = np.random.rand(3, 4)\n",
        "\n",
        "# Створення вектора розміром 4x1 з випадковими дійсними числами від 0 до 1\n",
        "vector = np.random.rand(4, 1)\n",
        "\n",
        "# Знаходження добутку матриці та вектора\n",
        "product = np.dot(matrix, vector)\n",
        "\n",
        "print(\"Матриця 3x4:\")\n",
        "print(matrix)\n",
        "\n",
        "print(\"\\nВектор 4x1:\")\n",
        "print(vector)\n",
        "\n",
        "print(\"\\nДобуток матриці на вектор:\")\n",
        "print(product)\n"
      ],
      "metadata": {
        "colab": {
          "base_uri": "https://localhost:8080/"
        },
        "id": "tMBM8Cmrl7im",
        "outputId": "7ca1136f-5d39-4878-e1a7-f68204ca6b2b"
      },
      "execution_count": null,
      "outputs": [
        {
          "output_type": "stream",
          "name": "stdout",
          "text": [
            "Матриця 3x4:\n",
            "[[0.20675796 0.80029583 0.27182078 0.44502091]\n",
            " [0.39010801 0.52792515 0.17746529 0.01915788]\n",
            " [0.36319784 0.39582713 0.53406665 0.96363964]]\n",
            "\n",
            "Вектор 4x1:\n",
            "[[0.76415375]\n",
            " [0.06319878]\n",
            " [0.46411183]\n",
            " [0.08953245]]\n",
            "\n",
            "Добуток матриці на вектор:\n",
            "[[0.37457164]\n",
            " [0.41554572]\n",
            " [0.63669845]]\n"
          ]
        }
      ]
    },
    {
      "cell_type": "code",
      "source": [
        "import numpy as np\n",
        "\n",
        "# Створення матриці розміром 2x3 з випадковими дійсними числами від 0 до 1\n",
        "matrix = np.random.rand(2, 3)\n",
        "\n",
        "# Створення вектора розміром 3 з випадковими цілими числами від 1 до 10\n",
        "vector = np.random.randint(1, 11, size=3)\n",
        "\n",
        "# Знаходження добутку матриці на вектор\n",
        "product = np.dot(matrix, vector)\n",
        "\n",
        "print(\"Матриця 2x3:\")\n",
        "print(matrix)\n",
        "\n",
        "print(\"\\nВектор 3:\")\n",
        "print(vector)\n",
        "\n",
        "print(\"\\nДобуток матриці на вектор:\")\n",
        "print(product)\n"
      ],
      "metadata": {
        "colab": {
          "base_uri": "https://localhost:8080/"
        },
        "id": "XSbjBTCRmOsG",
        "outputId": "0f41f2c3-ba2e-4640-f060-37ad4cecbbcb"
      },
      "execution_count": null,
      "outputs": [
        {
          "output_type": "stream",
          "name": "stdout",
          "text": [
            "Матриця 2x3:\n",
            "[[0.30115471 0.33027862 0.91878437]\n",
            " [0.75929196 0.16099592 0.79488947]]\n",
            "\n",
            "Вектор 3:\n",
            "[4 5 8]\n",
            "\n",
            "Добуток матриці на вектор:\n",
            "[10.20628691 10.2012632 ]\n"
          ]
        }
      ]
    },
    {
      "cell_type": "code",
      "source": [
        "import numpy as np\n",
        "\n",
        "# Створення двох матриць розміром 4x4 з випадковими цілими числами від 1 до 10\n",
        "matrix1 = np.random.randint(1, 11, size=(4, 4))\n",
        "matrix2 = np.random.randint(1, 11, size=(4, 4))\n",
        "\n",
        "# Обчислення різниці між матрицями\n",
        "difference = matrix1 - matrix2\n",
        "\n",
        "print(\"Матриця 1 (4x4):\")\n",
        "print(matrix1)\n",
        "\n",
        "print(\"\\nМатриця 2 (4x4):\")\n",
        "print(matrix2)\n",
        "\n",
        "print(\"\\nРізниця матриць:\")\n",
        "print(difference)\n"
      ],
      "metadata": {
        "colab": {
          "base_uri": "https://localhost:8080/"
        },
        "id": "clKBMDqwm59Q",
        "outputId": "5c45bbc6-3895-41e7-8df3-2f0969a0771a"
      },
      "execution_count": null,
      "outputs": [
        {
          "output_type": "stream",
          "name": "stdout",
          "text": [
            "Матриця 1 (4x4):\n",
            "[[ 1  2  1  7]\n",
            " [ 8  7  5  6]\n",
            " [ 8  8  1  2]\n",
            " [ 6  5 10  2]]\n",
            "\n",
            "Матриця 2 (4x4):\n",
            "[[ 8  3  8  9]\n",
            " [ 1  6  8  1]\n",
            " [ 3  4  2  3]\n",
            " [ 1  9  5 10]]\n",
            "\n",
            "Різниця матриць:\n",
            "[[-7 -1 -7 -2]\n",
            " [ 7  1 -3  5]\n",
            " [ 5  4 -1 -1]\n",
            " [ 5 -4  5 -8]]\n"
          ]
        }
      ]
    },
    {
      "cell_type": "code",
      "source": [
        "import numpy as np\n",
        "\n",
        "# Створення двох матриць розміром 3x3 з випадковими дійсними числами від -1 до 1\n",
        "matrix1 = np.random.uniform(-1, 1, size=(3, 3))\n",
        "matrix2 = np.random.uniform(-1, 1, size=(3, 3))\n",
        "\n",
        "# Обчислення суми всіх елементів матриць\n",
        "sum_matrix1 = np.sum(matrix1)\n",
        "sum_matrix2 = np.sum(matrix2)\n",
        "\n",
        "print(\"Матриця 1 (3x3):\")\n",
        "print(matrix1)\n",
        "\n",
        "print(\"\\nМатриця 2 (3x3):\")\n",
        "print(matrix2)\n",
        "\n",
        "print(\"\\nСума всіх елементів Матриці 1:\", sum_matrix1)\n",
        "print(\"Сума всіх елементів Матриці 2:\", sum_matrix2)\n"
      ],
      "metadata": {
        "colab": {
          "base_uri": "https://localhost:8080/"
        },
        "id": "z6FtVM4TnB25",
        "outputId": "fcf4b7be-6608-4775-d20a-452e6e7b75b2"
      },
      "execution_count": null,
      "outputs": [
        {
          "output_type": "stream",
          "name": "stdout",
          "text": [
            "Матриця 1 (3x3):\n",
            "[[ 0.64270502 -0.74549303  0.43027284]\n",
            " [ 0.45010125  0.78711073 -0.5482072 ]\n",
            " [ 0.0737424  -0.8120057  -0.08275013]]\n",
            "\n",
            "Матриця 2 (3x3):\n",
            "[[ 0.01489558  0.32003768 -0.3530975 ]\n",
            " [ 0.61703127  0.6550361  -0.56601669]\n",
            " [ 0.03788649  0.15403555 -0.13460209]]\n",
            "\n",
            "Сума всіх елементів Матриці 1: 0.19547618612949424\n",
            "Сума всіх елементів Матриці 2: 0.745206389247137\n"
          ]
        }
      ]
    },
    {
      "cell_type": "code",
      "source": [
        "import numpy as np\n",
        "\n",
        "# Створення матриці розміром 3x3 з випадковими дійсними числами від -3 до 3\n",
        "matrix = np.random.uniform(-3, 3, size=(3, 3))\n",
        "\n",
        "# Знаходження кількості парних елементів матриці\n",
        "#Перетворюємо матрицю на цілі числа і потім перевіряємо парність\n",
        "integer_matrix = np.round(matrix).astype(int)\n",
        "even_elements_count = np.sum(integer_matrix % 2 == 0)\n",
        "\n",
        "print(\"Матриця 3x3:\")\n",
        "print(matrix)\n",
        "\n",
        "print(\"\\nКількість парних елементів матриці:\", even_elements_count)\n"
      ],
      "metadata": {
        "colab": {
          "base_uri": "https://localhost:8080/"
        },
        "id": "rrJN8sVonWmr",
        "outputId": "6344795b-b3ca-4f2b-bc29-ba5ec7a2d9f3"
      },
      "execution_count": null,
      "outputs": [
        {
          "output_type": "stream",
          "name": "stdout",
          "text": [
            "Матриця 3x3:\n",
            "[[-0.08408763 -2.77143571  0.23179578]\n",
            " [ 1.49496543  0.01442561  0.13150306]\n",
            " [-1.0003699  -2.22362307 -2.95668172]]\n",
            "\n",
            "Кількість парних елементів матриці: 5\n"
          ]
        }
      ]
    },
    {
      "cell_type": "code",
      "source": [
        "import numpy as np\n",
        "from scipy.stats import gmean\n",
        "\n",
        "# Створення матриці розміром 5x5 з випадковими дійсними числами від -0.5 до 0.5\n",
        "matrix = np.random.uniform(-0.5, 0.5, size=(5, 5))\n",
        "\n",
        "# Функція для обчислення середнього геометричного з урахуванням від'ємних чисел\n",
        "def geometric_mean_with_non_positive(x):\n",
        "    x_positive = x[x > 0]\n",
        "    return gmean(x_positive) if len(x_positive) > 0 else np.nan\n",
        "\n",
        "# Обчислення середнього геометричного значення кожного рядка\n",
        "geo_mean_vector = np.array([geometric_mean_with_non_positive(row) for row in matrix])\n",
        "\n",
        "print(\"Матриця 5x5:\")\n",
        "print(matrix)\n",
        "\n",
        "print(\"\\nВектор середніх геометричних значень рядків:\")\n",
        "print(geo_mean_vector)\n"
      ],
      "metadata": {
        "colab": {
          "base_uri": "https://localhost:8080/"
        },
        "id": "F4VL8bppnmly",
        "outputId": "060ca735-969f-4871-baf4-49a518f20e4c"
      },
      "execution_count": null,
      "outputs": [
        {
          "output_type": "stream",
          "name": "stdout",
          "text": [
            "Матриця 5x5:\n",
            "[[-0.41407118  0.3496819   0.08077432 -0.35812722 -0.06468533]\n",
            " [ 0.48860344  0.09658285  0.26824521  0.14216546 -0.06288859]\n",
            " [-0.47459955 -0.14540051 -0.0502079  -0.11047972  0.20295275]\n",
            " [-0.3961755   0.11021493  0.11071154  0.27375461  0.38994791]\n",
            " [ 0.37450428 -0.22422514  0.06837535 -0.26937179 -0.04633921]]\n",
            "\n",
            "Вектор середніх геометричних значень рядків:\n",
            "[0.16806344 0.20596606 0.20295275 0.1899767  0.16002144]\n"
          ]
        }
      ]
    },
    {
      "cell_type": "markdown",
      "source": [
        "Висновок: було проведено різні маніпуляції з матрицями і векторами, також згадали та ознайомилися з функціями бібліотекою numpy."
      ],
      "metadata": {
        "id": "nD06kns4oK6f"
      }
    }
  ]
}